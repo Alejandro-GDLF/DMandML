{
 "cells": [
  {
   "cell_type": "markdown",
   "metadata": {},
   "source": [
    "# Data analysis\n",
    "In this section, we are going to implement and discuss the different data preprocessing algorithms.\n",
    "\n",
    "This section has the following algorithms:\n",
    "- PCA\n",
    "- MDS\n",
    "- ISOMAP"
   ]
  },
  {
   "cell_type": "code",
   "execution_count": 5,
   "metadata": {},
   "outputs": [
    {
     "data": {
      "text/plain": [
       "((1456, 50, 37), (1456,))"
      ]
     },
     "execution_count": 5,
     "metadata": {},
     "output_type": "execute_result"
    }
   ],
   "source": [
    "from sklearn.datasets import fetch_lfw_people\n",
    "from sklearn.preprocessing import LabelEncoder\n",
    "from sklearn.model_selection import train_test_split\n",
    "\n",
    "# Load data\n",
    "lfw_people = fetch_lfw_people(min_faces_per_person=53, resize=.4)\n",
    "X, y = lfw_people.images, lfw_people.target\n",
    "X.shape, y.shape"
   ]
  },
  {
   "cell_type": "code",
   "execution_count": 6,
   "metadata": {},
   "outputs": [],
   "source": [
    "TRAIN_SIZE = 0.7\n",
    "RANDOM_STATE = 42\n",
    "\n",
    "# Codificamos las etiquetas\n",
    "labelEncoder = LabelEncoder()\n",
    "y = labelEncoder.fit_transform(y)\n",
    "\n",
    "# Dividimos los datos en train y test\n",
    "x_train, x_test, y_train, y_test = train_test_split(X, y, train_size=TRAIN_SIZE, random_state=RANDOM_STATE)"
   ]
  },
  {
   "cell_type": "markdown",
   "metadata": {},
   "source": [
    "## PCA\n",
    "Implementation and discussion of the PCA algorithm"
   ]
  },
  {
   "cell_type": "code",
   "execution_count": null,
   "metadata": {},
   "outputs": [],
   "source": [
    "METHOD = PCA(n_components=2)\n",
    "\n",
    "x_train_reduced = method.fit_transform(X_train.reshape(X_train.shape[0], -1))\n",
    "x_test_reduced = method.transform(x_)"
   ]
  }
 ],
 "metadata": {
  "kernelspec": {
   "display_name": "venv",
   "language": "python",
   "name": "python3"
  },
  "language_info": {
   "codemirror_mode": {
    "name": "ipython",
    "version": 3
   },
   "file_extension": ".py",
   "mimetype": "text/x-python",
   "name": "python",
   "nbconvert_exporter": "python",
   "pygments_lexer": "ipython3",
   "version": "3.10.11"
  }
 },
 "nbformat": 4,
 "nbformat_minor": 2
}
